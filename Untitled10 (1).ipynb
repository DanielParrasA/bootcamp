{
  "nbformat": 4,
  "nbformat_minor": 0,
  "metadata": {
    "colab": {
      "provenance": []
    },
    "kernelspec": {
      "name": "python3",
      "display_name": "Python 3"
    },
    "language_info": {
      "name": "python"
    }
  },
  "cells": [
    {
      "cell_type": "code",
      "source": [
        "import openai\n",
        "import pandas as pd\n",
        "from langchain.prompts import PromptTemplate\n",
        "from langchain.chains import LLMChain\n",
        "from langchain.agents import initialize_agent, Tool, AgentType\n",
        "from langchain.llms import OpenAI\n",
        "from langchain.memory import ConversationBufferMemory\n",
        "\n",
        "openai.api_key = \"sk-YOUR_FAKE_API_KEY\"\n",
        "\n",
        "data = {\n",
        "    \"course\": [\"Deep Learning Básico\", \"Introducción a Python\", \"Fundamentos de Redes Neuronales\"],\n",
        "    \"topic\": [\"Redes Neuronales\", \"Python Básico\", \"Redes Neuronales\"],\n",
        "    \"lesson\": [\"Introducción a Redes Neuronales\", \"Sintaxis de Python\", \"Conceptos de Redes Neuronales\"],\n",
        "    \"exercise\": [\"Ejercicio 1 Redes Neuronales\", \"Ejercicio 2 Python\", \"Ejercicio 3 Redes Neuronales\"],\n",
        "    \"difficulty\": [\"Intermedio\", \"Principiante\", \"Avanzado\"]\n",
        "}\n",
        "\n",
        "df = pd.DataFrame(data)\n",
        "\n",
        "def query_processor(query):\n",
        "    prompt = f\"Clasifica la consulta: '{query}' en las categorías de lecciones, ejercicios, o bugs.\"\n",
        "    model = OpenAI(temperature=0)\n",
        "    chain = LLMChain(llm=model, prompt=prompt)\n",
        "    return chain.run(query)\n",
        "\n",
        "def content_search(category, query):\n",
        "    if category == \"lecciones\":\n",
        "        result = df[df[\"topic\"].str.contains(query, case=False)]\n",
        "        return result[\"lesson\"].iloc[0] if not result.empty else None\n",
        "    elif category == \"ejercicios\":\n",
        "        result = df[df[\"exercise\"].str.contains(query, case=False)]\n",
        "        return result[\"exercise\"].iloc[0] if not result.empty else None\n",
        "    return None\n",
        "\n",
        "def answer_generator(query, lesson, exercise):\n",
        "    prompt = f\"Genera una respuesta para la consulta: '{query}', con la lección: '{lesson}' y el ejercicio: '{exercise}'.\"\n",
        "    model = OpenAI(temperature=0.7)\n",
        "    chain = LLMChain(llm=model, prompt=prompt)\n",
        "    return chain.run(query)\n",
        "\n",
        "def agent1(query):\n",
        "    category = query_processor(query)\n",
        "    return category\n",
        "\n",
        "def agent2(category, query):\n",
        "    if category == \"lecciones\":\n",
        "        lesson = content_search(\"lecciones\", query)\n",
        "    elif category == \"ejercicios\":\n",
        "        exercise = content_search(\"ejercicios\", query)\n",
        "    return lesson if category == \"lecciones\" else exercise\n",
        "\n",
        "def agent3(query, lesson, exercise):\n",
        "    response = answer_generator(query, lesson, exercise)\n",
        "    return response\n",
        "\n",
        "query = \"¿Cuál es la lección más adecuada para aprender sobre redes neuronales?\"\n",
        "category = agent1(query)\n",
        "lesson = agent2(category, query)\n",
        "response = agent3(query, lesson, None)\n",
        "\n",
        "print(response)\n"
      ],
      "metadata": {
        "id": "Y0p2uFsDxZOF"
      },
      "execution_count": null,
      "outputs": []
    }
  ]
}